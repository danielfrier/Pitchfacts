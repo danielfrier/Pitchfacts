{
 "cells": [
  {
   "cell_type": "code",
   "execution_count": 1,
   "metadata": {},
   "outputs": [
    {
     "name": "stderr",
     "output_type": "stream",
     "text": [
      "/Users/greenexplosions/anaconda/lib/python2.7/site-packages/sklearn/cross_validation.py:41: DeprecationWarning: This module was deprecated in version 0.18 in favor of the model_selection module into which all the refactored classes and functions are moved. Also note that the interface of the new CV iterators are different from that of this module. This module will be removed in 0.20.\n",
      "  \"This module will be removed in 0.20.\", DeprecationWarning)\n",
      "/Users/greenexplosions/anaconda/lib/python2.7/site-packages/sklearn/grid_search.py:42: DeprecationWarning: This module was deprecated in version 0.18 in favor of the model_selection module into which all the refactored classes and functions are moved. This module will be removed in 0.20.\n",
      "  DeprecationWarning)\n",
      "/Users/greenexplosions/anaconda/lib/python2.7/site-packages/sklearn/learning_curve.py:22: DeprecationWarning: This module was deprecated in version 0.18 in favor of the model_selection module into which all the functions are moved. This module will be removed in 0.20\n",
      "  DeprecationWarning)\n"
     ]
    }
   ],
   "source": [
    "%matplotlib inline\n",
    "import matplotlib.pyplot as plt\n",
    "import matplotlib\n",
    "import numpy as np\n",
    "import pandas as pd\n",
    "import re\n",
    "import unicodedata\n",
    "import os\n",
    "import codecs\n",
    "import nltk\n",
    "\n",
    "from nltk.corpus import *\n",
    "from collections import *\n",
    "from gensim import *\n",
    "from gensim.models import *\n",
    "from sklearn import *\n",
    "from sklearn.metrics.pairwise import *\n",
    "from nltk.stem import *\n",
    "\n",
    "\n",
    "\n",
    "metadatadf = pd.read_csv('metadata.csv', skipinitialspace=True)\n",
    "reviewsdf = pd.read_csv('reviews.csv', skipinitialspace=True)\n",
    "\n",
    "dictionary = corpora.Dictionary.load('reviewsDict.dict')\n",
    "corpus = corpora.MmCorpus('reviewsDict.mm')\n",
    "wem = Word2Vec.load('models/wem/wem.wem')\n",
    "tfidf = models.TfidfModel(corpus)\n",
    "corpus_tfidf = tfidf[corpus]"
   ]
  },
  {
   "cell_type": "code",
   "execution_count": 2,
   "metadata": {},
   "outputs": [],
   "source": [
    "documents = [str(reviewsdf.loc[i].review) for i in range(len(reviewsdf[:]))]"
   ]
  },
  {
   "cell_type": "code",
   "execution_count": 3,
   "metadata": {},
   "outputs": [],
   "source": [
    "def generate_models(topic_num):\n",
    "    lsi = models.LsiModel(corpus_tfidf, id2word=dictionary, num_topics=topic_num)\n",
    "    lda = models.LdaModel(corpus, id2word=dictionary, num_topics=topic_num)\n",
    "    return {'lsi':lsi,'lda':lda}"
   ]
  },
  {
   "cell_type": "code",
   "execution_count": 4,
   "metadata": {},
   "outputs": [],
   "source": [
    "def analogy(model,a,b,c):\n",
    "    return model.wv.most_similar(positive=[c, b], negative=[a])"
   ]
  },
  {
   "cell_type": "code",
   "execution_count": 5,
   "metadata": {},
   "outputs": [
    {
     "data": {
      "text/plain": [
       "[('math', 0.6342626810073853),\n",
       " ('grindcore', 0.592850387096405),\n",
       " ('hardcore', 0.5893312692642212),\n",
       " ('stoner', 0.5795284509658813),\n",
       " ('thrash', 0.5732924938201904),\n",
       " ('sabbath', 0.5669950246810913),\n",
       " ('metals', 0.564648449420929),\n",
       " ('punks', 0.5396698713302612),\n",
       " ('sludge', 0.5383000373840332),\n",
       " ('post-hardcore', 0.5367418527603149)]"
      ]
     },
     "execution_count": 5,
     "metadata": {},
     "output_type": "execute_result"
    }
   ],
   "source": [
    "analogy(wem,'rock','punk','metal')"
   ]
  },
  {
   "cell_type": "code",
   "execution_count": 6,
   "metadata": {},
   "outputs": [],
   "source": [
    "def get_nice_topics(model):\n",
    "    num_topics = len(model.get_topics())\n",
    "    return str(num_topics)+'\\n'+('\\n\\n'.join([model.print_topic(i) for i in list(range(num_topics))]))"
   ]
  },
  {
   "cell_type": "markdown",
   "metadata": {},
   "source": [
    "models_list = [generate_models(i) for i in list(range(5,40))]\n",
    "lsafile = open('models/lsa.txt', 'w')\n",
    "ldafile = open('models/lda.txt', 'w')\n",
    "for i in list(range(len(models_list))):\n",
    "    lsafile.write(get_nice_topics(models_list[i]['lsi']))\n",
    "    ldafile.write(get_nice_topics(models_list[i]['lda']))\n",
    "    lsafile.write('\\n\\n')\n",
    "    ldafile.write('\\n\\n')\n",
    "lsafile.close()\n",
    "ldafile.close()\n",
    "for i in list(range(len(models_list))):\n",
    "    (models_list[i]['lsi']).save('models/lsa/'+str(i)+'.lsi')\n",
    "    (models_list[i]['lda']).save('models/lda/'+str(i)+'.lda')"
   ]
  },
  {
   "cell_type": "code",
   "execution_count": null,
   "metadata": {},
   "outputs": [],
   "source": []
  }
 ],
 "metadata": {
  "kernelspec": {
   "display_name": "Python 2",
   "language": "python",
   "name": "python2"
  },
  "language_info": {
   "codemirror_mode": {
    "name": "ipython",
    "version": 2
   },
   "file_extension": ".py",
   "mimetype": "text/x-python",
   "name": "python",
   "nbconvert_exporter": "python",
   "pygments_lexer": "ipython2",
   "version": "2.7.14"
  }
 },
 "nbformat": 4,
 "nbformat_minor": 2
}
