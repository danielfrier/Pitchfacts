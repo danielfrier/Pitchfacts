{
 "cells": [
  {
   "cell_type": "code",
   "execution_count": 187,
   "metadata": {},
   "outputs": [],
   "source": [
    "%matplotlib inline\n",
    "import matplotlib.pyplot as plt\n",
    "import matplotlib\n",
    "import numpy as np\n",
    "import pandas as pd\n",
    "import re\n",
    "import unicodedata\n",
    "import os\n",
    "import codecs\n",
    "import nltk\n",
    "import multiprocessing\n",
    "\n",
    "from nltk.corpus import *\n",
    "from collections import *\n",
    "from gensim import *\n",
    "from gensim.models import *\n",
    "from sklearn import *\n",
    "from sklearn.metrics.pairwise import *\n",
    "from nltk.stem import *\n",
    "\n",
    "\n",
    "\n",
    "metadatadf = pd.read_csv('data/metadata.csv', skipinitialspace=True)\n",
    "reviewsdf = pd.read_csv('data/reviews.csv', skipinitialspace=True)\n",
    "subdf = pd.read_csv('data/subgenres.csv',skipinitialspace=True)\n",
    "\n",
    "dictionary = corpora.Dictionary.load('models/reviewsDict.dict')\n",
    "corpus = corpora.MmCorpus('models/reviewsDict.mm')\n",
    "wem = Word2Vec.load('models/wem/wem.wem')\n",
    "lda = LdaModel.load('models/lda/lda.lda')\n",
    "tfidf = models.TfidfModel(corpus)\n",
    "corpus_tfidf = tfidf[corpus]\n",
    "genres = ['rap','electronic','metal','rock','experimental','pop','r&b','folk','country','jazz','global']\n",
    "documents = [str(reviewsdf.loc[i].review) for i in range(len(reviewsdf[:]))]"
   ]
  },
  {
   "cell_type": "code",
   "execution_count": 61,
   "metadata": {},
   "outputs": [],
   "source": [
    "def generate_models(topic_num):\n",
    "    lsi = models.LsiModel(corpus_tfidf, id2word=dictionary, num_topics=topic_num)\n",
    "    lda = models.LdaModel(corpus, id2word=dictionary, num_topics=topic_num)\n",
    "    return {'lsi':lsi,'lda':lda}"
   ]
  },
  {
   "cell_type": "code",
   "execution_count": 62,
   "metadata": {},
   "outputs": [],
   "source": [
    "def analogy(model,a,b,c):\n",
    "    return model.wv.most_similar(positive=[c, b], negative=[a])"
   ]
  },
  {
   "cell_type": "code",
   "execution_count": 63,
   "metadata": {},
   "outputs": [],
   "source": [
    "def similarity(model, a,b):\n",
    "    return model.wv.similarity(a,b)"
   ]
  },
  {
   "cell_type": "markdown",
   "metadata": {},
   "source": [
    "analogy(wem,'rap','hip-hop','folk')"
   ]
  },
  {
   "cell_type": "markdown",
   "metadata": {},
   "source": [
    "similarity(wem,'rap','country')"
   ]
  },
  {
   "cell_type": "code",
   "execution_count": 6,
   "metadata": {},
   "outputs": [],
   "source": [
    "def get_similar(model,word,n):\n",
    "    return model.wv.most_similar(word,topn=n)"
   ]
  },
  {
   "cell_type": "code",
   "execution_count": 11,
   "metadata": {},
   "outputs": [],
   "source": [
    "subgenres = {}\n",
    "for i in genres:\n",
    "    subgenres[i]=get_similar(wem,i,25)"
   ]
  },
  {
   "cell_type": "markdown",
   "metadata": {},
   "source": [
    "genre_distances = {'rows':genres}\n",
    "for i in genres:\n",
    "    genre_distances[i]=[]\n",
    "    for o in genres:\n",
    "        genre_distances[i].append(o,similarity(wem,i,o))\n",
    " for i in genre_distances:\n",
    "     genre_distances[i].sort(key=lambda tup: tup[1])\n",
    "distancesdf = pd.DataFrame.from_dict(genre_distances)\n",
    "distancesdf.to_csv('genre_distances.csv')"
   ]
  },
  {
   "cell_type": "code",
   "execution_count": 41,
   "metadata": {},
   "outputs": [],
   "source": [
    "distinctiveness = []\n",
    "for i in genre_distances:\n",
    "    distinctiveness.append((i,np.mean([1-o[1] for o in genre_distances[i]])))\n",
    "distinctiveness.sort(key=lambda tup: tup[1])"
   ]
  },
  {
   "cell_type": "markdown",
   "metadata": {},
   "source": [
    "distinctiveness"
   ]
  },
  {
   "cell_type": "markdown",
   "metadata": {},
   "source": [
    "subdf = pd.DataFrame()\n",
    "genrestemp = []\n",
    "substemp = []\n",
    "valstemp = []\n",
    "for i in subgenres:\n",
    "    genrestemp.extend(((i+' ')*(len(subgenres[i])-1)).split(' '))\n",
    "    substemp.extend([o[0] for o in subgenres[i]])\n",
    "    \n",
    "subdf['genre'] = genrestemp\n",
    "subdf['subgenre'] = substemp\n",
    "subdf.to_csv('subgenres.csv')"
   ]
  },
  {
   "cell_type": "code",
   "execution_count": 158,
   "metadata": {},
   "outputs": [],
   "source": [
    "subgenres = {}\n",
    "for row in subdf.iterrows():\n",
    "    if row[1].genre not in subgenres:\n",
    "        subgenres[row[1].genre] = []\n",
    "    subgenres[row[1].genre].append(row[1].subgenre)"
   ]
  },
  {
   "cell_type": "markdown",
   "metadata": {},
   "source": [
    "subs_corr = {}\n",
    "for i in subgenres:\n",
    "    subs_corr[i] = {}\n",
    "    for o in subgenres[i]:\n",
    "        subs_corr[i][o]=[]\n",
    "        for p in subgenres[i]:\n",
    "            subs_corr[i][o].append(round(similarity(wem,o,p),5))\n"
   ]
  },
  {
   "cell_type": "markdown",
   "metadata": {},
   "source": [
    "for i in genres:\n",
    "    if i=='global':continue\n",
    "    tempdf = pd.DataFrame()\n",
    "    for o in subgenres[i]:\n",
    "        tempdf[o] = subs_corr[i][o]\n",
    "    tempdf.set_axis(subgenres[i])\n",
    "    tempdf.to_csv(i+'.csv')"
   ]
  },
  {
   "cell_type": "code",
   "execution_count": null,
   "metadata": {},
   "outputs": [],
   "source": []
  },
  {
   "cell_type": "code",
   "execution_count": null,
   "metadata": {},
   "outputs": [],
   "source": []
  },
  {
   "cell_type": "code",
   "execution_count": 15,
   "metadata": {},
   "outputs": [],
   "source": [
    "def get_nice_topics(model):\n",
    "    num_topics = len(model.get_topics())\n",
    "    return str(num_topics)+'\\n'+('\\n\\n'.join([model.print_topic(i) for i in list(range(num_topics))]))"
   ]
  },
  {
   "cell_type": "markdown",
   "metadata": {},
   "source": [
    "models_list = [generate_models(i) for i in list(range(5,40))]\n",
    "lsafile = open('models/lsa.txt', 'w')\n",
    "ldafile = open('models/lda.txt', 'w')\n",
    "for i in list(range(len(models_list))):\n",
    "    lsafile.write(get_nice_topics(models_list[i]['lsi']))\n",
    "    ldafile.write(get_nice_topics(models_list[i]['lda']))\n",
    "    lsafile.write('\\n\\n')\n",
    "    ldafile.write('\\n\\n')\n",
    "lsafile.close()\n",
    "ldafile.close()\n",
    "for i in list(range(len(models_list))):\n",
    "    (models_list[i]['lsi']).save('models/lsa/'+str(i)+'.lsi')\n",
    "    (models_list[i]['lda']).save('models/lda/'+str(i)+'.lda')"
   ]
  },
  {
   "cell_type": "markdown",
   "metadata": {},
   "source": [
    "print(get_nice_topics(lda))"
   ]
  },
  {
   "cell_type": "code",
   "execution_count": null,
   "metadata": {},
   "outputs": [],
   "source": []
  }
 ],
 "metadata": {
  "kernelspec": {
   "display_name": "Python 2",
   "language": "python",
   "name": "python2"
  },
  "language_info": {
   "codemirror_mode": {
    "name": "ipython",
    "version": 2
   },
   "file_extension": ".py",
   "mimetype": "text/x-python",
   "name": "python",
   "nbconvert_exporter": "python",
   "pygments_lexer": "ipython2",
   "version": "2.7.14"
  }
 },
 "nbformat": 4,
 "nbformat_minor": 2
}
